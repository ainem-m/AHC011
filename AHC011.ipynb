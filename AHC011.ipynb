{
  "nbformat": 4,
  "nbformat_minor": 0,
  "metadata": {
    "colab": {
      "name": "AHC011class.ipynb",
      "provenance": [],
      "collapsed_sections": [],
      "include_colab_link": true
    },
    "kernelspec": {
      "name": "python3",
      "display_name": "Python 3"
    },
    "language_info": {
      "name": "python"
    }
  },
  "cells": [
    {
      "cell_type": "markdown",
      "metadata": {
        "id": "view-in-github",
        "colab_type": "text"
      },
      "source": [
        "<a href=\"https://colab.research.google.com/github/ainem-m/AHC011/blob/main/AHC011.ipynb\" target=\"_parent\"><img src=\"https://colab.research.google.com/assets/colab-badge.svg\" alt=\"Open In Colab\"/></a>"
      ]
    },
    {
      "cell_type": "markdown",
      "source": [
        "# AHC011 17M点解法\n",
        "\n",
        "著者: [ainem](https://atcoder.jp/users/ainem)  \n",
        "自由に改変、提出していただいて構いません。\n",
        "\n",
        "---\n"
      ],
      "metadata": {
        "id": "UuaNKe_JGWV3"
      }
    },
    {
      "cell_type": "markdown",
      "source": [
        "# 最初に実行してください"
      ],
      "metadata": {
        "id": "jnnUVNP5epF2"
      }
    },
    {
      "cell_type": "code",
      "source": [
        "from typing import Generator, List, Set, Tuple, Dict # 型ヒント用のモジュール\n",
        "\n",
        "Coordinate = Tuple[int, int] # 座標の型を指定\n",
        "\n",
        "# 疑似input 実行だけして読み飛ばしてください\n",
        "# notebookだと入力するのがだるいので、文字列リテラルを受け取れるようにしてあります\n",
        "# 提出時はDEBUG = Falseにしてください\n",
        "\n",
        "DEBUG = True\n",
        "\n",
        "# 他のケースを試したい時はtest_caseの内容を変える\n",
        "test_case = \"\"\"\n",
        "6 432\n",
        "62ce43\n",
        "a068f9\n",
        "a89da9\n",
        "5d93cb\n",
        "276253\n",
        "424ba8\n",
        "\"\"\"\n",
        "readline = iter(test_case.strip(\"\\n\").split(\"\\n\"))\n",
        "if DEBUG: input = lambda: next(readline)"
      ],
      "metadata": {
        "id": "q3QMrEP5PKwF"
      },
      "execution_count": null,
      "outputs": []
    },
    {
      "cell_type": "markdown",
      "source": [
        "# 実装の説明"
      ],
      "metadata": {
        "id": "8zGNLswqnlyJ"
      }
    },
    {
      "cell_type": "markdown",
      "source": [
        "### 入力\n",
        "まずは入力を受け取るところから説明。"
      ],
      "metadata": {
        "id": "uEG_mKK3j-Rx"
      }
    },
    {
      "cell_type": "markdown",
      "source": [
        "N: パズルの大きさ($N \\times N$マス、$6 \\le N \\le 10$)  \n",
        "T: 最大操作数($2 \\times N ^{3}$)  \n",
        "matrix: $N字\\times N行$の文字列  \n",
        "\n",
        "$\\begin{matrix}\n",
        "t_{0,0}t_{0,1}...t_{0, n-2}t_{0, n-1},  \\\\\n",
        "t_{1,0}t_{1,1}...t_{1, n-2}t_{1, n-1},  \\\\\n",
        "...,  \\\\\n",
        "t_{n-2,0}t_{n-2,1}...t_{n-2, n-2}t_{n-2, n-1},  \\\\\n",
        "t_{n-1,0}t_{n-1,1}...t_{n-1, n-2}t_{n-1, n-1} \n",
        "\\end{matrix}$\n",
        "\n",
        "実際には以下のような形\n",
        "```\n",
        "6 432\n",
        "62ce43\n",
        "a068f9\n",
        "a89da9\n",
        "5d93cb\n",
        "276253\n",
        "424ba8\n",
        "```\n",
        "盤面はN文字N行の文字列  \n",
        "16進数なので$int(i, 16)$でint型に変換できる（そうすることで、str型より扱いが楽になる）  \n",
        "二次元配列の方がわかりやすいが、処理速度に違いが出てくるので  \n",
        "matrix[x][y] -> matrix[10*x + y]と置くことにして入力を受け取る\n"
      ],
      "metadata": {
        "id": "WCyfb1VwZwXe"
      }
    },
    {
      "cell_type": "markdown",
      "source": [
        "N, Tの受け取りがわからない方は方は[Python3の標準入力やり方まとめ - Qiita](https://qiita.com/yasu_teco/items/e8db933ac4f647166996)などを読んでください。  \n",
        "matrixのr行目c列目の値は$matrix[10*r + c]$に格納されます  \n",
        "以下が実装です↓"
      ],
      "metadata": {
        "id": "K7X45VCjaC4o"
      }
    },
    {
      "cell_type": "code",
      "source": [
        "N, T = map(int, input().split())\n",
        "matrix = [-1 for _ in range(N * 10)]\n",
        "for r in range(N):\n",
        "    matrix[10 * r : 10 * r + N] = [int(i, 16) for i in input()]"
      ],
      "metadata": {
        "id": "Y9AwYLKtn34K"
      },
      "execution_count": null,
      "outputs": []
    },
    {
      "cell_type": "markdown",
      "source": [
        "下のセルを実行して入力を受け取れたか確認しましょう"
      ],
      "metadata": {
        "id": "RKiINQ14bfe6"
      }
    },
    {
      "cell_type": "code",
      "source": [
        "print(\"N, T =\", N, T)\n",
        "print(\"matrix =\", matrix)"
      ],
      "metadata": {
        "colab": {
          "base_uri": "https://localhost:8080/"
        },
        "id": "qhQ9l_EwTlkF",
        "outputId": "07c91807-8181-4970-a2d3-a2583baf6830"
      },
      "execution_count": null,
      "outputs": [
        {
          "output_type": "stream",
          "name": "stdout",
          "text": [
            "N, T = 6 432\n",
            "matrix = [6, 2, 12, 14, 4, 3, -1, -1, -1, -1, 10, 0, 6, 8, 15, 9, -1, -1, -1, -1, 10, 8, 9, 13, 10, 9, -1, -1, -1, -1, 5, 13, 9, 3, 12, 11, -1, -1, -1, -1, 2, 7, 6, 2, 5, 3, -1, -1, -1, -1, 4, 2, 4, 11, 10, 8, -1, -1, -1, -1]\n"
          ]
        }
      ]
    },
    {
      "cell_type": "markdown",
      "source": [
        "**これで入力を受け取ることができました！**\n",
        "え、matrixが読みにくい？読みにくいですよね。あとでなんとかします。"
      ],
      "metadata": {
        "id": "8b9rLdNpZlZp"
      }
    },
    {
      "cell_type": "markdown",
      "source": [
        "### マスの連結判定\n",
        "\n",
        "$\\def\\arraystretch{1.5}\n",
        "   \\begin{array}{c:c:c}\n",
        "     & (k>>1)\\&1 &   \\\\ \\hline\n",
        "    (k>>0)\\&1 & k  & (k>>2)\\&1  \\\\\n",
        "   \\hdashline\n",
        "     & (k>>3)\\&1 &  \n",
        "\\end{array}$  \n",
        "i=0: 左 i=1:上 i=2: 右 i=3下として  \n",
        "$(k>>i)\\&1 == 1$ならば繋がりがある  \n",
        "\n",
        "早速実装しましょう。"
      ],
      "metadata": {
        "id": "EV2KY04Aoi8t"
      }
    },
    {
      "cell_type": "code",
      "source": [
        "def has_root(matrix: List[int], coordinate:Coordinate, direction:int) -> bool:\n",
        "    \"\"\"座標のマスから指定した方向に繋がりがあるか判定\n",
        "\n",
        "    Args:\n",
        "        matrix (List[int]): 盤面\n",
        "        coordinate (Coordinate): 座標\n",
        "        direction (int): 方向 左から時計回り[0:L, 1:U, 2:R, 3:D]\n",
        "\n",
        "    Returns: bool\n",
        "    \"\"\"\n",
        "    x, y = coordinate\n",
        "    return (matrix[10 * x + y] >> direction) & 1 == 1"
      ],
      "metadata": {
        "id": "Z3-Kxzcnbxpp"
      },
      "execution_count": null,
      "outputs": []
    },
    {
      "cell_type": "markdown",
      "source": [
        "```\n",
        " 012345\n",
        "0└╵┌├╶┘\n",
        "1│#└╷┼┐\n",
        "2│╷┐┬│┐\n",
        "3─┬┐┘┌┤\n",
        "4╵┴└╵─┘\n",
        "5╶╵╶┤│╷\n",
        "```\n",
        "\n",
        "先程受け取った盤面のの3行目1列目で実行してみます。  \n",
        "ピースの形は┬ですので、左、上、右、下の順番に[True, False, True, True]の結果になるはずです。"
      ],
      "metadata": {
        "id": "pl7jCYkHNyfB"
      }
    },
    {
      "cell_type": "code",
      "source": [
        "print(has_root(matrix, (3, 1), 0)) # True\n",
        "print(has_root(matrix, (3, 1), 1)) # False\n",
        "print(has_root(matrix, (3, 1), 2)) # True\n",
        "print(has_root(matrix, (3, 1), 3)) # True"
      ],
      "metadata": {
        "colab": {
          "base_uri": "https://localhost:8080/"
        },
        "id": "WpEfrAEhBPVP",
        "outputId": "9d1964c2-71e7-4b7a-cec8-3c12de0e471c"
      },
      "execution_count": null,
      "outputs": [
        {
          "output_type": "stream",
          "name": "stdout",
          "text": [
            "True\n",
            "False\n",
            "True\n",
            "True\n"
          ]
        }
      ]
    },
    {
      "cell_type": "markdown",
      "source": [
        "この盤面、どこまでピースが連結なのかを探索したくなりますよね。そこで盤面とマスを引数として与えた時に、連結している隣接したマスを列挙してくれる関数を作ります。 \n",
        "\n",
        "まずは隣接する４つのマスについて、現在のマスとの差分dx,dyを考えると\n",
        " * $i=0$のとき（左）$dx=0, dy=-1$\n",
        " * $i=1$のとき（上）$dx=-1, dy=0$\n",
        " * $i=2$のとき（右）$dx=0, dy=1$\n",
        " * $i=3$のとき（下）$dx=1, dy=0$\n",
        "\n",
        "これは差分のリストDX, DYを作り\n",
        "```python\n",
        "DX = [0, -1, 0, 1]\n",
        "DY = [-1, 0, 1, 0]\n",
        "for i, (dx, dy) in enumerate(zip(DX, DY)):\n",
        "  #i: 方向\n",
        "  pass \n",
        "```\n",
        "とfor文を回すことで４つの隣接マスについて探索できます。\n",
        "\n",
        "\n",
        "隣り合ったマスそれぞれで  \n",
        " * 自分のマスから隣のマスの方向に道があるか？\n",
        " * 隣のマスから自分のマスの方向に道があるか？？\n",
        "\n",
        "の２つを判定し、上記条件を満たせば**方向と座標**を返すことにします。\n",
        "\n",
        "\n",
        "**$(i + 2)\\%4$で方向$i$の反対側**を求めることができるので、\n",
        "\n",
        "例えば$matrix[10 * x + y] = 5, matrix[10 * x + y-1] = 4$のとき  \n",
        "マス(x, y)が方向$i=0$(左)のマスと繋がる条件は\n",
        "\n",
        " - $(5>>0)\\&1 == 1$(現在のマスから左へ道が伸びている)  \n",
        " - $(4>>(0+2) \\% 4) \\& 1 == 1$ (左のマスから現在のマスへ道が伸びている)\n",
        "\n",
        "と表すことができます。この例ではこの２つのマスは連結です。\n",
        "\n",
        "また、隣のマスを探索する際に、範囲外参照をしてしまうことがありますので、その対策もします。  \n",
        "対策法として外壁（番兵）を置く方法と、範囲内に収まるか判定する関数を作る方法があります。。\n",
        "私は関数を作るほうが楽で好きなので、そちらを今回は採用します。"
      ],
      "metadata": {
        "id": "2fCqrQjjc4ws"
      }
    },
    {
      "cell_type": "code",
      "source": [
        "def is_in(coordinate: Coordinate) -> bool:\n",
        "    \"\"\"座標が盤面内に収まるか判定\n",
        "\n",
        "    Args: coordinate (Coordinate): 座標\n",
        "\n",
        "    Returns: bool\n",
        "    \"\"\"\n",
        "    x, y = coordinate\n",
        "    return 0 <= x < N and 0 <= y < N\n",
        "# DX[i]: 方向iのxの差分\n",
        "DX = [0, -1, 0, 1]\n",
        "DY = [-1, 0, 1, 0]\n",
        "\n",
        "def get_adjacent(matrix: List[int], coordinate: Coordinate) -> Generator[Tuple[int, Coordinate], None, None]:\n",
        "    \"\"\"指定した座標から連結しているマスを列挙\n",
        "\n",
        "    Args:\n",
        "        matrix (List[int]): 盤面\n",
        "        coordinate (Coordinate): 座標\n",
        "\n",
        "    Yields:\n",
        "        Generator[Tuple[int, Coordinate], None, None]: 座標からみた連結している方向と連結しているマスの座標のタプル\n",
        "    \"\"\"\n",
        "    x, y = coordinate\n",
        "    for i, (dx, dy) in enumerate(zip(DX, DY)):\n",
        "        if has_root(matrix, (x, y), i):  # そのマスから方向iへ線が伸びている\n",
        "            nx = x + dx\n",
        "            ny = y + dy\n",
        "            if not is_in((nx, ny)):\n",
        "                continue\n",
        "            j = (i + 2) % 4\n",
        "            if has_root(matrix, (nx, ny), j):  # 隣のマスから現在のマスへ線が伸びている\n",
        "                yield i, (nx, ny)"
      ],
      "metadata": {
        "id": "iQo4B0eQc4Nz"
      },
      "execution_count": null,
      "outputs": []
    },
    {
      "cell_type": "markdown",
      "source": [
        "```\n",
        " 012345\n",
        "0└╵┌├╶┘\n",
        "1│#└╷┼┐\n",
        "2│╷┐┬│┐\n",
        "3─┬┐┘┌┤\n",
        "4╵┴└╵─┘\n",
        "5╶╵╶┤│╷\n",
        "```\n",
        "\n",
        "先程受け取った盤面のの3行目1列目で実行してみます。  \n",
        "ピースの形は┬で、左と右、下のマスに連結しているので３つの方向とマスが出力されれば成功です。"
      ],
      "metadata": {
        "id": "616mULGxmdcS"
      }
    },
    {
      "cell_type": "code",
      "source": [
        "for i, (x, y) in get_adjacent(matrix, (3, 1)):\n",
        "  print(f\"i={i}, coordinate={x, y}\")"
      ],
      "metadata": {
        "colab": {
          "base_uri": "https://localhost:8080/"
        },
        "id": "J-C_3Q7DmrNS",
        "outputId": "6ef12a67-b138-4e9e-abc5-a614ecf8540a"
      },
      "execution_count": null,
      "outputs": [
        {
          "output_type": "stream",
          "name": "stdout",
          "text": [
            "i=0, coordinate=(3, 0)\n",
            "i=2, coordinate=(3, 2)\n",
            "i=3, coordinate=(4, 1)\n"
          ]
        }
      ]
    },
    {
      "cell_type": "markdown",
      "source": [
        "### 最大の木の大きさと含まれる頂点"
      ],
      "metadata": {
        "id": "T6y6IXBKkp6t"
      }
    },
    {
      "cell_type": "markdown",
      "source": [
        "ここまでで盤面をグラフのように考える準備が整ったので、dfsの関数を書いていきます。  \n",
        "DFSって何？って方は、[けんちょんさんの記事](https://qiita.com/drken/items/4a7869c5e304883f539b)とかが参考になると思います(c++ですが…)  \n",
        "与えられた盤面と座標から、訪れたマスを記録しながら連結するマスを探索していき、頂点数と頂点の集合を返します。途中、一度訪れたマスにたどり着いた場合は閉路ありとして頂点数を0としています。\n",
        "\n",
        "[B - バウムテスト](https://atcoder.jp/contests/arc037/tasks/arc037_b)が参考になります。"
      ],
      "metadata": {
        "id": "aAO6vlyJoLNX"
      }
    },
    {
      "cell_type": "code",
      "source": [
        "def dfs_norec(matrix: List[int], seen: List[bool], coordinate: Coordinate):\n",
        "    \"\"\"座標から盤面をDFSして座標から繋がる木の頂点数と頂点の集合を返す。閉路がある場合頂点数は0となる\n",
        "\n",
        "    Args:\n",
        "        matrix (List[int]): 盤面\n",
        "        seen (List[bool]): 訪問済の頂点\n",
        "        coordinate (Coordinate): 開始地点の座標\n",
        "\n",
        "    Returns:\n",
        "        Tuple[int, Set[int]]: 木の頂点数、木の頂点の集合\n",
        "    \"\"\"\n",
        "    x, y = coordinate\n",
        "    cnt = 0 # 頂点数\n",
        "    flag = True # 閉路の場合False\n",
        "    q = [(x, y, -1)] # 開始地点なので方向が存在しないので-1\n",
        "    tree = set() # 頂点集合\n",
        "    while q:\n",
        "        x, y, d = q.pop()\n",
        "        if seen[10 * x + y]:\n",
        "            # 一度訪れたマスにたどり着いた\n",
        "            flag = False # 閉路あり\n",
        "            continue\n",
        "        seen[10 * x + y] = True\n",
        "        tree.add(10 * x + y)\n",
        "        cnt += 1\n",
        "        for i, (nx, ny) in get_adjacent(matrix, (x, y)):\n",
        "            if (i + 2) % 4 == d:\n",
        "                # 前の方向の反対には進まない＝前の頂点には戻らない\n",
        "                continue\n",
        "            if seen[10 * nx + ny]:\n",
        "                flag = False\n",
        "                continue\n",
        "            q.append((nx, ny, i))\n",
        "    return cnt * flag, tree # flagががFalseならcntが0になる\n"
      ],
      "metadata": {
        "id": "KQ9hEPTKnQj7"
      },
      "execution_count": null,
      "outputs": []
    },
    {
      "cell_type": "markdown",
      "source": [
        "```\n",
        " 012345\n",
        "0└╵┌├╶┘\n",
        "1│#└╷┼┐\n",
        "2│╷┐┬│┐\n",
        "3─┬┐┘┌┤\n",
        "4╵┴└╵─┘\n",
        "5╶╵╶┤│╷\n",
        "```\n",
        "\n",
        "早速先程受け取った盤面のの3行目1列目で実行してみます。５つのマスに繋がる木になっているはずです。はずです。  \n",
        "DFS、BFSはとにかくバグりやすいので（個人の感想）テストは大事だと思います。。（普段私がテストするかというと…）  "
      ],
      "metadata": {
        "id": "UPghhzSyrDXk"
      }
    },
    {
      "cell_type": "code",
      "source": [
        "print(dfs_norec(matrix, [False] * (N*10), (3, 1)))"
      ],
      "metadata": {
        "colab": {
          "base_uri": "https://localhost:8080/"
        },
        "id": "UAMej28xrAe8",
        "outputId": "e22c5582-35b4-4676-d4ed-07408997668e"
      },
      "execution_count": null,
      "outputs": [
        {
          "output_type": "stream",
          "name": "stdout",
          "text": [
            "(5, {32, 41, 42, 30, 31})\n"
          ]
        }
      ]
    },
    {
      "cell_type": "markdown",
      "source": [
        "この関数を使って、盤面を全探索し、盤面内の最大の木の大きさと含まれる頂点を求める関数を実装します。"
      ],
      "metadata": {
        "id": "kV8b9APPr_Vl"
      }
    },
    {
      "cell_type": "code",
      "source": [
        "def get_tree(matrix: List[int]) -> Tuple[int, Set[int]]:\n",
        "    \"\"\"盤面から最大の木を探し、頂点数と頂点集合を返す\n",
        "\n",
        "    Args:\n",
        "        matrix (List[int]): 盤面\n",
        "\n",
        "    Returns:\n",
        "        Tuple[int, Set[int]]: 頂点数、頂点集合\n",
        "    \"\"\"\n",
        "    seen = [False] * (N * 10)\n",
        "    tree_size = 0\n",
        "    tree = set()\n",
        "    for i in range(N):\n",
        "        for j in range(N):\n",
        "            if seen[10 * i + j]:\n",
        "                continue\n",
        "            cnt, t = dfs_norec(matrix, seen, (i, j))\n",
        "            if cnt > tree_size:\n",
        "                tree_size = cnt\n",
        "                tree = t\n",
        "    return tree_size, tree"
      ],
      "metadata": {
        "id": "TMYsYmOrsQmi"
      },
      "execution_count": null,
      "outputs": []
    },
    {
      "cell_type": "markdown",
      "source": [
        "```\n",
        " 012345\n",
        "0└╵┌├╶┘\n",
        "1│#└╷┼┐\n",
        "2│╷┐┬│┐\n",
        "3─┬┐┘┌┤\n",
        "4╵┴└╵─┘\n",
        "5╶╵╶┤│╷\n",
        "```\n",
        "\n",
        "この盤面で実行すると、右下の木が検出されます（さっきの木と同率１位）"
      ],
      "metadata": {
        "id": "aafxfq5wttbn"
      }
    },
    {
      "cell_type": "code",
      "source": [
        "print(get_tree(matrix))"
      ],
      "metadata": {
        "colab": {
          "base_uri": "https://localhost:8080/"
        },
        "id": "g88aIFj9k2Ve",
        "outputId": "38db507a-44dc-442f-e0d2-f82466bd1dcd"
      },
      "execution_count": null,
      "outputs": [
        {
          "output_type": "stream",
          "name": "stdout",
          "text": [
            "(5, {34, 35, 44, 45, 25})\n"
          ]
        }
      ]
    },
    {
      "cell_type": "markdown",
      "source": [
        "ほぼ同じですが、盤面の評価値を求める関数も実装します。最大の木の頂点数を基準とし、他の木の大きさの和も考慮するようにしています。評価値の考え方に関しては多分ヒューリスティックコンテストのキモになる部分ではないかと思っています。色々弄った結果、以下の評価に落ち着きました。"
      ],
      "metadata": {
        "id": "-TnG0DLuuyK1"
      }
    },
    {
      "cell_type": "code",
      "source": [
        "SCORE_RATIO = 0.5\n",
        "def get_score(matrix: List[int], ratio: float) -> float:\n",
        "    \"\"\"盤面の評価値を計算する\n",
        "\n",
        "    Args:\n",
        "        matrix (List[int]): 盤面\n",
        "        ratio (float): 経過時間/時間制限\n",
        "\n",
        "    Returns:\n",
        "        float: 盤面の最大の木の頂点数 + (盤面の頂点数3以上の木の頂点数の和 * (SCORE_RATIO - ratio) / 100)\n",
        "        序盤は最大の木以外の木が多いほど良い評価、終盤に近づいたら一番大きな木以外に木があると低評価になる\n",
        "    \"\"\"\n",
        "    seen = [False] * (N * 10)\n",
        "    max_size = 0\n",
        "    sum_size = 0\n",
        "    for i in range(N):\n",
        "        for j in range(N):\n",
        "            if seen[10 * i + j]:\n",
        "                continue\n",
        "            s, _ = dfs_norec(matrix, seen, (i, j)) # 返り値の２つ目、頂点集合は使わないので\"_\"で受け取って使わない\n",
        "            if max_size < s:\n",
        "                max_size = s\n",
        "            sum_size += max(s - 3, 0)\n",
        "    return max_size + (sum_size * (SCORE_RATIO - ratio) / 100)"
      ],
      "metadata": {
        "id": "FF_Y3L5puEuf"
      },
      "execution_count": null,
      "outputs": []
    },
    {
      "cell_type": "markdown",
      "source": [
        "序盤はたくさん木がある方が評価が高く、時間経過が進むほど低評価になります。"
      ],
      "metadata": {
        "id": "HM6bOrlgwor8"
      }
    },
    {
      "cell_type": "code",
      "source": [
        "print(get_score(matrix, 0))\n",
        "print(get_score(matrix, 1))"
      ],
      "metadata": {
        "id": "_aLXGd2vd3-T",
        "colab": {
          "base_uri": "https://localhost:8080/"
        },
        "outputId": "b90ab9a0-7fbe-488a-f211-4861711e829d"
      },
      "execution_count": null,
      "outputs": [
        {
          "output_type": "stream",
          "name": "stdout",
          "text": [
            "5.02\n",
            "4.98\n"
          ]
        }
      ]
    },
    {
      "cell_type": "markdown",
      "source": [
        "### ルート生成\n",
        "盤面からルート候補を生成する"
      ],
      "metadata": {
        "id": "ckO3UftjuyQP"
      }
    },
    {
      "cell_type": "markdown",
      "source": [
        "まずはルートの始点となる空きマスの位置を調べる関数を実装"
      ],
      "metadata": {
        "id": "wzrNZ80rxC0o"
      }
    },
    {
      "cell_type": "code",
      "source": [
        "def get_empty(matrix: List[int]) -> Coordinate:\n",
        "    \"\"\"盤面から空きマスの座標を探す\n",
        "\n",
        "    Args: matrix (List[int]): 盤面\n",
        "\n",
        "    Returns: Coordinate: 空きマスの座標\n",
        "    \"\"\"\n",
        "    tmp = matrix.index(0)\n",
        "    return tmp // 10, tmp % 10"
      ],
      "metadata": {
        "id": "Zxrf_sTgw21u"
      },
      "execution_count": null,
      "outputs": []
    },
    {
      "cell_type": "markdown",
      "source": [
        "```\n",
        " 012345\n",
        "0└╵┌├╶┘\n",
        "1│#└╷┼┐\n",
        "2│╷┐┬│┐\n",
        "3─┬┐┘┌┤\n",
        "4╵┴└╵─┘\n",
        "5╶╵╶┤│╷\n",
        "```\n",
        "空きマスを＃で表示しているので、、(1, 1)と表示されれば成功です"
      ],
      "metadata": {
        "id": "6i7gi0uyxsm4"
      }
    },
    {
      "cell_type": "code",
      "source": [
        "print(get_empty(matrix))"
      ],
      "metadata": {
        "colab": {
          "base_uri": "https://localhost:8080/"
        },
        "id": "VM7nPY9Txld0",
        "outputId": "1f311573-035a-4d8a-98e7-7e20d71a03e6"
      },
      "execution_count": null,
      "outputs": [
        {
          "output_type": "stream",
          "name": "stdout",
          "text": [
            "(1, 1)\n"
          ]
        }
      ]
    },
    {
      "cell_type": "code",
      "source": [
        "import random\n",
        "\n",
        "random.seed(19880803) # 実行ごとに結果が変わらないようにseed値を固定\n",
        "\n",
        "TEST_TIME = 10 # 一度に生成するルートの数\n",
        "ROOT_LENGTH = 5 # ルートの長さ\n",
        "\n",
        "def make_roots(matrix: List[int]) -> Generator[str, None, None]:\n",
        "    \"\"\"盤面から長さN*ROOT_LENGTHのルートをTEST_TIME個生成\n",
        "\n",
        "    Args:\n",
        "        matrix (List[int]): 盤面\n",
        "\n",
        "    Yields:\n",
        "        Generator[str, None, None]: ルート\n",
        "    \"\"\"\n",
        "    for _ in range(TEST_TIME):\n",
        "        tmp = \"\"\n",
        "        x, y = get_empty(matrix)  # 現在位置(emptyの位置は更新しない)\n",
        "        loop_cnt = 0\n",
        "        while len(tmp) < ROOT_LENGTH:\n",
        "            if loop_cnt == 100:\n",
        "                # 行き止まりになった時の無限ループ回避\n",
        "                break\n",
        "            loop_cnt += 1\n",
        "            i = random.randint(0, 3)\n",
        "            if tmp and tmp[-1] == \"LURD\"[(i+2)%4]:\n",
        "                # 往復移動はしない\n",
        "                continue\n",
        "            dx, dy = DX[i], DY[i]\n",
        "            if is_in((x + dx, y + dy)):\n",
        "                x += dx\n",
        "                y += dy\n",
        "                tmp += \"LURD\"[i]\n",
        "        yield tmp"
      ],
      "metadata": {
        "id": "3ApgppQmx6Oe"
      },
      "execution_count": null,
      "outputs": []
    },
    {
      "cell_type": "markdown",
      "source": [
        "これで"
      ],
      "metadata": {
        "id": "ImjGkGBXQetk"
      }
    },
    {
      "cell_type": "code",
      "source": [
        "for root in make_roots(matrix):\n",
        "  print(root)"
      ],
      "metadata": {
        "colab": {
          "base_uri": "https://localhost:8080/"
        },
        "id": "xjnw9MnOz3I8",
        "outputId": "cd20ae07-5a41-4d36-ed65-7fde99ba1b6f"
      },
      "execution_count": null,
      "outputs": [
        {
          "output_type": "stream",
          "name": "stdout",
          "text": [
            "ULDRR\n",
            "LDDDD\n",
            "RRRDL\n",
            "LDDRU\n",
            "LURDD\n",
            "RDRRR\n",
            "DRUUL\n",
            "DLDRU\n",
            "LURRD\n",
            "DRRDL\n"
          ]
        }
      ]
    },
    {
      "cell_type": "markdown",
      "source": [
        "盤面からはみ出さず、往復移動をしないルートをTEST_TIME個生成することができました！"
      ],
      "metadata": {
        "id": "1y5PlxVmQ9bt"
      }
    },
    {
      "cell_type": "markdown",
      "source": [
        "### 盤面クラスの実装\n",
        "やっとここまでたどり着いた"
      ],
      "metadata": {
        "id": "ETrshpXF0bYI"
      }
    },
    {
      "cell_type": "markdown",
      "source": [
        "クラスについて詳しい説明は…どなたかいい記事を教えていただけませんでしょうか…理解の難しい概念です…  \n",
        "内部に盤面に関する情報を複数持ち、盤面を更新する関数や盤面の情報を整形して出力してくれるようなすてきなオブジェクトを作ります。  \n",
        "詳しくは実装のあとに…"
      ],
      "metadata": {
        "id": "bTL5PNwN02Ct"
      }
    },
    {
      "cell_type": "code",
      "source": [
        "class Board:\n",
        "    \"\"\"\n",
        "    N: int 盤面の大きさ\n",
        "    matrix: List[int] 盤面 高速化のため一次元化(matrix[x][y] -> matrix[10*x + y])\n",
        "    empty: Tuple[int, int] 空きマスの座標\n",
        "    tree_size: int 最大の木の大きさ\n",
        "    tree: set[int] 最大の木の頂点の集合\n",
        "    \"\"\"\n",
        "    \n",
        "    def __init__(self, N:int, matrix:List[int]) -> None:\n",
        "        self.N = N\n",
        "        self.matrix = matrix\n",
        "        self.empty = get_empty(self.matrix)\n",
        "        self.tree_size, self.tree = get_tree(self.matrix)\n",
        "    \n",
        "    debug_line = [\n",
        "      \"#\",  # 空きマス\n",
        "      chr(int(\"2574\", 16)),  # 1 > ╴\n",
        "      chr(int(\"2575\", 16)),  # 2 > ╵\n",
        "      chr(int(\"2518\", 16)),  # 3 > ┘\n",
        "      chr(int(\"2576\", 16)),  # 4 > ╶\n",
        "      chr(int(\"2500\", 16)),  # 5 > ─\n",
        "      chr(int(\"2514\", 16)),  # 6 > └\n",
        "      chr(int(\"2534\", 16)),  # 7 > ┴\n",
        "      chr(int(\"2577\", 16)),  # 8 > ╷\n",
        "      chr(int(\"2510\", 16)),  # 9 > ┐\n",
        "      chr(int(\"2502\", 16)),  # a > │\n",
        "      chr(int(\"2524\", 16)),  # b > ┤\n",
        "      chr(int(\"250c\", 16)),  # c > ┌\n",
        "      chr(int(\"252c\", 16)),  # d > ┬\n",
        "      chr(int(\"251c\", 16)),  # e > ├\n",
        "      chr(int(\"253c\", 16)),  # f > ┼\n",
        "    ]\n",
        "\n",
        "    def __str__(self):\n",
        "        matrix_ = []\n",
        "        for i in range(self.N):\n",
        "            matrix_.append(self.matrix[10 * i : 10 * i + self.N])\n",
        "        matrix = \"\\n\".join(\n",
        "            [str(i) + \"\".join(self.debug_line[e] for e in m) for i, m in enumerate(matrix_)]\n",
        "        )\n",
        "        return f\"N={self.N}\\nmatrix = \\n 0123456789\\n{matrix}\\nempty = {self.empty}\\ntree_size = {self.tree_size}\\ntree={self.tree}\"\n",
        "\n",
        "    def move_simu(self, moves: str) -> Tuple[List[int], int]:\n",
        "        \"\"\"ルートを受け取りルート通り移動した盤面とルートの評価値を返す\n",
        "\n",
        "        Args:\n",
        "            moves (str): ルート\n",
        "\n",
        "        Raises:\n",
        "            ValueError: 盤面外に移動するルートの場合エラーを返す\n",
        "\n",
        "        Returns:\n",
        "            Tuple[List[int], int]: 盤面、評価値\n",
        "        \"\"\"\n",
        "        matrix = self.matrix[:] # スライスを使ってコピー、参照渡しにならないように注意\n",
        "        x, y = self.empty\n",
        "        min_x = max_x = x\n",
        "        min_y = max_y = y\n",
        "        for m in moves:\n",
        "            i = \"LURD\".find(m)\n",
        "            dx, dy = list(zip(DX, DY))[i]\n",
        "            if not is_in((x + dx, y + dy)):\n",
        "                raise ValueError\n",
        "            matrix[10 * x + y], matrix[10 * (x + dx) + y + dy] = (\n",
        "                matrix[10 * (x + dx) + y + dy],\n",
        "                matrix[10 * x + y],\n",
        "            )\n",
        "            x, y = x + dx, y + dy\n",
        "            min_x = min(min_x, x)\n",
        "            max_x = max(max_x, x)\n",
        "            min_y = min(min_y, y)\n",
        "            max_y = max(max_y, y)\n",
        "        return matrix, (max_x - min_x) * (max_y - min_y)\n",
        "\n",
        "    def move(self, moves: str) -> None:\n",
        "        \"\"\"ルートを受け取りクラス内の盤面を更新\n",
        "\n",
        "        Args:\n",
        "            moves (str): ルート\n",
        "        \"\"\"\n",
        "        matrix, _ = self.move_simu(moves)\n",
        "        self.matrix = matrix[:]\n",
        "        self.empty = get_empty(self.matrix)\n",
        "        self.tree_size, self.tree = get_tree(self.matrix)\n"
      ],
      "metadata": {
        "id": "LSu9Ds5QjsEp"
      },
      "execution_count": null,
      "outputs": []
    },
    {
      "cell_type": "markdown",
      "source": [
        "#### デバッグ用関数\n",
        "\n",
        "[wikipedia](https://ja.wikipedia.org/wiki/罫線素片)でUNICODEを調べて数字とピースの対応表作り\n",
        "```python\n",
        "debug_line: List[str] = [\n",
        "  \"#\",  # 空きマス\n",
        "  chr(int(\"2574\", 16)),  # 1 > ╴\n",
        "  chr(int(\"2575\", 16)),  # 2 > ╵\n",
        "  chr(int(\"2518\", 16)),  # 3 > ┘\n",
        "  chr(int(\"2576\", 16)),  # 4 > ╶\n",
        "  chr(int(\"2500\", 16)),  # 5 > ─\n",
        "  chr(int(\"2514\", 16)),  # 6 > └\n",
        "  chr(int(\"2534\", 16)),  # 7 > ┴\n",
        "  chr(int(\"2577\", 16)),  # 8 > ╷\n",
        "  chr(int(\"2510\", 16)),  # 9 > ┐\n",
        "  chr(int(\"2502\", 16)),  # a > │\n",
        "  chr(int(\"2524\", 16)),  # b > ┤\n",
        "  chr(int(\"250c\", 16)),  # c > ┌\n",
        "  chr(int(\"252c\", 16)),  # d > ┬\n",
        "  chr(int(\"251c\", 16)),  # e > ├\n",
        "  chr(int(\"253c\", 16)),  # f > ┼\n",
        "]\n",
        "```\n",
        "\\_\\_str\\_\\_という、クラスをprintしたときに呼び出される関数を実装します。  \n",
        "一次元の配列になっているmatrixを二次元に戻して\n",
        "```python\n",
        "matrix_ = []\n",
        "for i in range(self.N):\n",
        "    matrix_.append(self.matrix[10 * i : 10 * i + self.N])\n",
        "matrix = \"\\n\".join(\n",
        "    [str(i) + \"\".join(\n",
        "      self.debug_line[e] for e in m\n",
        "      ) for i, m in enumerate(matrix_)]\n",
        ")\n",
        "return f\"N={self.N}\\nmatrix = \\n 0123456789\\n{matrix}\\nempty = {self.empty}\\ntree_size = {self.tree_size}\\ntree={self.tree}\"\n",
        "```\n",
        "ゴニョゴニョして実装です。これはどうやったらもうすこしきれいに実装できますかね。。\n",
        "\n",
        "ナニワトモアレ、早速Boardクラスをインスタンス化して、盤面の状態を出力させてみましょう！"
      ],
      "metadata": {
        "id": "iyBjlZbN7vYY"
      }
    },
    {
      "cell_type": "code",
      "source": [
        "board = Board(N, matrix)\n",
        "print(board)"
      ],
      "metadata": {
        "colab": {
          "base_uri": "https://localhost:8080/"
        },
        "id": "AlMmK0wo1S64",
        "outputId": "fe3a833f-7430-40c2-dce6-bd5f107ac770"
      },
      "execution_count": null,
      "outputs": [
        {
          "output_type": "stream",
          "name": "stdout",
          "text": [
            "N=6\n",
            "matrix = \n",
            " 0123456789\n",
            "0└╵┌├╶┘\n",
            "1│#└╷┼┐\n",
            "2│╷┐┬│┐\n",
            "3─┬┐┘┌┤\n",
            "4╵┴└╵─┘\n",
            "5╶╵╶┤│╷\n",
            "empty = (1, 1)\n",
            "tree_size = 5\n",
            "tree={34, 35, 44, 45, 25}\n"
          ]
        }
      ]
    },
    {
      "cell_type": "markdown",
      "source": [
        "私は盤面の移動の実装に関して、次のように２つにわけて考えました  \n",
        " * 与えられたルートの通りに操作した盤面を返す関数\n",
        " * 与えられた盤面にクラスの状態を更新する関数\n",
        "\n",
        "２つに分けることにより、たくさんのルート候補それぞれに対して盤面を更新することなく、評価だけを行い、最良のルートだけを選択肢、盤面クラスの状態を更新することができると考えました。\n",
        "\n",
        "```python\n",
        "def move_simu(self, moves):\n",
        "    \"\"\"ルートを受け取りルート通り移動したmatrixとルートの評価値を返す\n",
        "\n",
        "    Args:\n",
        "        moves (str): ルート\n",
        "\n",
        "    Raises:\n",
        "        ValueError: 盤面外に移動するルートの場合エラーを返す\n",
        "\n",
        "    Returns:\n",
        "        Tuple[List[int], int]: 盤面、ルートの評価値(ルートの横幅*ルートの縦幅縦幅)\n",
        "    \"\"\"\n",
        "    matrix = self.matrix[:] # スライスを使ってコピー、参照渡しにならないように注意\n",
        "    x, y = self.empty\n",
        "    min_x = max_x = x\n",
        "    min_y = max_y = y\n",
        "    for m in moves:\n",
        "        i = \"LURD\".find(m)\n",
        "        dx, dy = list(zip(DX, DY))[i]\n",
        "        if not is_in((x + dx, y + dy)):\n",
        "            raise ValueError\n",
        "        # 空きマスと移動先の値をスワップ\n",
        "        matrix[10 * x + y], matrix[10 * (x + dx) + y + dy] = (\n",
        "            matrix[10 * (x + dx) + y + dy],\n",
        "            matrix[10 * x + y],\n",
        "        )\n",
        "        x, y = x + dx, y + dy\n",
        "        min_x = min(min_x, x)\n",
        "        max_x = max(max_x, x)\n",
        "        min_y = min(min_y, y)\n",
        "        max_y = max(max_y, y)\n",
        "    return matrix, (max_x - min_x) * (max_y - min_y)\n",
        "```\n",
        "後者の関数は特に変なことをしていないので説明は飛ばします。"
      ],
      "metadata": {
        "id": "6Qn7hKjFR7bp"
      }
    },
    {
      "cell_type": "code",
      "source": [
        "print(board)"
      ],
      "metadata": {
        "colab": {
          "base_uri": "https://localhost:8080/"
        },
        "id": "_uOwzdXea2kt",
        "outputId": "1d4943a6-866d-4db7-e6b0-8fbbb7458553"
      },
      "execution_count": null,
      "outputs": [
        {
          "output_type": "stream",
          "name": "stdout",
          "text": [
            "N=6\n",
            "matrix = \n",
            " 0123456789\n",
            "0└╵┌├╶┘\n",
            "1│#└╷┼┐\n",
            "2│╷┐┬│┐\n",
            "3─┬┐┘┌┤\n",
            "4╵┴└╵─┘\n",
            "5╶╵╶┤│╷\n",
            "empty = (1, 1)\n",
            "tree_size = 5\n",
            "tree={34, 35, 44, 45, 25}\n"
          ]
        }
      ]
    },
    {
      "cell_type": "code",
      "source": [
        "print(board.move_simu(\"DDDD\"))\n",
        "print(get_score(board.move_simu(\"DDDD\")[0], 0.5))\n",
        "board.move(\"DDDD\")\n",
        "print(board)"
      ],
      "metadata": {
        "colab": {
          "base_uri": "https://localhost:8080/"
        },
        "id": "00pfMmDba4Sp",
        "outputId": "28877cf6-a010-478d-d5a8-7c8df5900e08"
      },
      "execution_count": null,
      "outputs": [
        {
          "output_type": "stream",
          "name": "stdout",
          "text": [
            "([6, 2, 12, 14, 4, 3, -1, -1, -1, -1, 10, 8, 6, 8, 15, 9, -1, -1, -1, -1, 10, 13, 9, 13, 10, 9, -1, -1, -1, -1, 5, 7, 9, 3, 12, 11, -1, -1, -1, -1, 2, 2, 6, 2, 5, 3, -1, -1, -1, -1, 4, 0, 4, 11, 10, 8, -1, -1, -1, -1], 0)\n",
            "6.0\n",
            "N=6\n",
            "matrix = \n",
            " 0123456789\n",
            "0└╵┌├╶┘\n",
            "1│╷└╷┼┐\n",
            "2│┬┐┬│┐\n",
            "3─┴┐┘┌┤\n",
            "4╵╵└╵─┘\n",
            "5╶#╶┤│╷\n",
            "empty = (5, 1)\n",
            "tree_size = 6\n",
            "tree={32, 42, 21, 22, 30, 31}\n"
          ]
        }
      ]
    },
    {
      "cell_type": "code",
      "source": [
        "#board.move(\"D\") # 盤面の外に行こうとするとValueError"
      ],
      "metadata": {
        "id": "nmK3RpbWa-LW"
      },
      "execution_count": null,
      "outputs": []
    },
    {
      "cell_type": "markdown",
      "source": [
        "### メインループの実装"
      ],
      "metadata": {
        "id": "RDNwoYYvbilu"
      }
    },
    {
      "cell_type": "markdown",
      "source": [
        "\n",
        "### 経過時間で処理を打ち切る関数\n",
        "```Python\n",
        "from time import time\n",
        "start_time = time() # 計測開始した時間\n",
        "elapsed_time = time() - start_time # 経過時間\n",
        "```\n",
        "これはとってもかんたんだった\n",
        "https://note.nkmk.me/python-datetime-timedelta-measure-time/"
      ],
      "metadata": {
        "id": "Cg7A4OLIcS3i"
      }
    },
    {
      "cell_type": "code",
      "source": [
        "from time import time\n",
        "\n",
        "start_time: float = time()\n",
        "TIME_LIMIT: float = 2.5\n",
        "time_now: float = 0.0\n",
        "ans: str = \"\"\n",
        "\n",
        "# メインループ\n",
        "while time_now <= TIME_LIMIT:\n",
        "    if len(ans) > T - ROOT_LENGTH * N:\n",
        "        break\n",
        "    ratio: float = time_now / TIME_LIMIT\n",
        "    tmp: str = \"\"\n",
        "\n",
        "    roots = make_roots(board.matrix)\n",
        "    score = get_score(board.matrix, ratio)\n",
        "    for root in roots:\n",
        "        matrix_tmp, root_area = board.move_simu(root)\n",
        "        sc = get_score(matrix_tmp, ratio)\n",
        "        sc += (root_area / 50) * (time_now - 1) / TIME_LIMIT\n",
        "        if sc > score:\n",
        "            tmp = root\n",
        "            score = sc\n",
        "\n",
        "    if tmp:\n",
        "        ans += tmp\n",
        "        board.move(tmp)\n",
        "    time_now = time() - start_time\n",
        "\n",
        "print(ans)\n",
        "print(board)"
      ],
      "metadata": {
        "colab": {
          "base_uri": "https://localhost:8080/"
        },
        "id": "BH5JxfxxblpQ",
        "outputId": "ea372e2f-ddaa-49e5-8879-717f23c8022a"
      },
      "execution_count": null,
      "outputs": [
        {
          "output_type": "stream",
          "name": "stdout",
          "text": [
            "LUURURRDLURDDRRULUULURDLDRULDLRDRRDDLLLLRRRRUDLLLLLURDLRULDRRRRRUDLLLLRRRRUDLLLLURUULURURRDLLURDLULLRDRULLDRURDLLURLDRURDDLURULLDRLURDRRULLLRRRDLLLURRRDRRUDDDLLRRUUULDLLUDRULLRDLURLDRRULLLDRLURDDURULDURDLDUURDLRULDRULDRUDLURDLURDLRULDRULDRULDDRUULDRULDRDLUURDLURDLURDLURDLURDLURDLDRUULRDLURDDLURLDRUUDLURDLURDLURDLDURDLUURDLDURULDRULDDURULDRULDRLURDLRULDRULDRUDLURDLURDLURDLDUURDLURDLDUURDLURDLDUURDLRULDD\n",
            "N=6\n",
            "matrix = \n",
            " 0123456789\n",
            "0┐└╵└┐┐\n",
            "1│╶╷┌┼┘\n",
            "2│#╷╵├┐\n",
            "3┴┬┘│┌┤\n",
            "4─└┬─┘╷\n",
            "5╵╵╶╶┤│\n",
            "empty = (2, 1)\n",
            "tree_size = 22\n",
            "tree={0, 3, 4, 5, 10, 13, 14, 15, 20, 22, 23, 24, 25, 30, 31, 32, 34, 35, 41, 42, 43, 44}\n"
          ]
        }
      ]
    },
    {
      "cell_type": "markdown",
      "source": [
        "***いかがでしたでしょうか？***\n",
        "\n",
        "kaggleのノートブック共有のように、写経していただけたら幸いです！！\n",
        "パラメータをTEST_TIME = 100, ROOT_LENGTH = N*2.5 に変更して提出すると、多分17M点がとれるはずです。。"
      ],
      "metadata": {
        "id": "k6qd-K9XeCO6"
      }
    }
  ]
}